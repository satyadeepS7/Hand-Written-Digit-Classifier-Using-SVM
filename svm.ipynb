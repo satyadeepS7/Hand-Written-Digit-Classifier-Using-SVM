{
  "nbformat": 4,
  "nbformat_minor": 0,
  "metadata": {
    "kernelspec": {
      "name": "python3",
      "display_name": "Python 3"
    },
    "language_info": {
      "codemirror_mode": {
        "name": "ipython",
        "version": 3
      },
      "file_extension": ".py",
      "mimetype": "text/x-python",
      "name": "python",
      "nbconvert_exporter": "python",
      "pygments_lexer": "ipython3",
      "version": "3.7.3"
    },
    "toc": {
      "base_numbering": 1,
      "nav_menu": {},
      "number_sections": true,
      "sideBar": true,
      "skip_h1_title": false,
      "title_cell": "Table of Contents",
      "title_sidebar": "Contents",
      "toc_cell": false,
      "toc_position": {},
      "toc_section_display": true,
      "toc_window_display": false
    },
    "colab": {
      "name": "svm.ipynb",
      "provenance": [],
      "collapsed_sections": [
        "xu4cuZHX3-mR"
      ],
      "toc_visible": true
    },
    "accelerator": "GPU"
  },
  "cells": [
    {
      "cell_type": "markdown",
      "metadata": {
        "id": "ZOkkdmd4woeg",
        "colab_type": "text"
      },
      "source": [
        "# DigitClassifier"
      ]
    },
    {
      "cell_type": "code",
      "metadata": {
        "ExecuteTime": {
          "end_time": "2019-07-25T05:57:01.785819Z",
          "start_time": "2019-07-25T05:56:26.725649Z"
        },
        "id": "fWSsXEi1woek",
        "colab_type": "code",
        "colab": {}
      },
      "source": [
        "import numpy as np\n",
        "from PIL import Image\n",
        "import matplotlib.pyplot as plt\n",
        "from sklearn import datasets, svm\n",
        "from sklearn.preprocessing import MinMaxScaler\n",
        "from sklearn.model_selection import cross_val_score"
      ],
      "execution_count": 0,
      "outputs": []
    },
    {
      "cell_type": "code",
      "metadata": {
        "ExecuteTime": {
          "end_time": "2019-07-25T05:57:02.052090Z",
          "start_time": "2019-07-25T05:57:01.791106Z"
        },
        "id": "E2SsBrBWwoez",
        "colab_type": "code",
        "colab": {}
      },
      "source": [
        "data = datasets.load_digits()"
      ],
      "execution_count": 0,
      "outputs": []
    },
    {
      "cell_type": "code",
      "metadata": {
        "ExecuteTime": {
          "end_time": "2019-07-25T05:57:02.068695Z",
          "start_time": "2019-07-25T05:57:02.055113Z"
        },
        "id": "47FYO5KKwoe8",
        "colab_type": "code",
        "colab": {
          "base_uri": "https://localhost:8080/",
          "height": 36
        },
        "outputId": "17949ba8-4b9f-4857-9dd3-45059e141fb7"
      },
      "source": [
        "data.keys()"
      ],
      "execution_count": 53,
      "outputs": [
        {
          "output_type": "execute_result",
          "data": {
            "text/plain": [
              "dict_keys(['data', 'target', 'target_names', 'images', 'DESCR'])"
            ]
          },
          "metadata": {
            "tags": []
          },
          "execution_count": 53
        }
      ]
    },
    {
      "cell_type": "code",
      "metadata": {
        "ExecuteTime": {
          "end_time": "2019-07-25T06:28:48.308394Z",
          "start_time": "2019-07-25T06:28:48.291920Z"
        },
        "id": "tPtSItYJwofF",
        "colab_type": "code",
        "colab": {
          "base_uri": "https://localhost:8080/",
          "height": 1000
        },
        "outputId": "ed315d59-b56a-4055-fc6f-786b2b9418c7"
      },
      "source": [
        "data"
      ],
      "execution_count": 54,
      "outputs": [
        {
          "output_type": "execute_result",
          "data": {
            "text/plain": [
              "{'DESCR': \".. _digits_dataset:\\n\\nOptical recognition of handwritten digits dataset\\n--------------------------------------------------\\n\\n**Data Set Characteristics:**\\n\\n    :Number of Instances: 5620\\n    :Number of Attributes: 64\\n    :Attribute Information: 8x8 image of integer pixels in the range 0..16.\\n    :Missing Attribute Values: None\\n    :Creator: E. Alpaydin (alpaydin '@' boun.edu.tr)\\n    :Date: July; 1998\\n\\nThis is a copy of the test set of the UCI ML hand-written digits datasets\\nhttps://archive.ics.uci.edu/ml/datasets/Optical+Recognition+of+Handwritten+Digits\\n\\nThe data set contains images of hand-written digits: 10 classes where\\neach class refers to a digit.\\n\\nPreprocessing programs made available by NIST were used to extract\\nnormalized bitmaps of handwritten digits from a preprinted form. From a\\ntotal of 43 people, 30 contributed to the training set and different 13\\nto the test set. 32x32 bitmaps are divided into nonoverlapping blocks of\\n4x4 and the number of on pixels are counted in each block. This generates\\nan input matrix of 8x8 where each element is an integer in the range\\n0..16. This reduces dimensionality and gives invariance to small\\ndistortions.\\n\\nFor info on NIST preprocessing routines, see M. D. Garris, J. L. Blue, G.\\nT. Candela, D. L. Dimmick, J. Geist, P. J. Grother, S. A. Janet, and C.\\nL. Wilson, NIST Form-Based Handprint Recognition System, NISTIR 5469,\\n1994.\\n\\n.. topic:: References\\n\\n  - C. Kaynak (1995) Methods of Combining Multiple Classifiers and Their\\n    Applications to Handwritten Digit Recognition, MSc Thesis, Institute of\\n    Graduate Studies in Science and Engineering, Bogazici University.\\n  - E. Alpaydin, C. Kaynak (1998) Cascading Classifiers, Kybernetika.\\n  - Ken Tang and Ponnuthurai N. Suganthan and Xi Yao and A. Kai Qin.\\n    Linear dimensionalityreduction using relevance weighted LDA. School of\\n    Electrical and Electronic Engineering Nanyang Technological University.\\n    2005.\\n  - Claudio Gentile. A New Approximate Maximal Margin Classification\\n    Algorithm. NIPS. 2000.\",\n",
              " 'data': array([[ 0.,  0.,  5., ...,  0.,  0.,  0.],\n",
              "        [ 0.,  0.,  0., ..., 10.,  0.,  0.],\n",
              "        [ 0.,  0.,  0., ..., 16.,  9.,  0.],\n",
              "        ...,\n",
              "        [ 0.,  0.,  1., ...,  6.,  0.,  0.],\n",
              "        [ 0.,  0.,  2., ..., 12.,  0.,  0.],\n",
              "        [ 0.,  0., 10., ..., 12.,  1.,  0.]]),\n",
              " 'images': array([[[ 0.,  0.,  5., ...,  1.,  0.,  0.],\n",
              "         [ 0.,  0., 13., ..., 15.,  5.,  0.],\n",
              "         [ 0.,  3., 15., ..., 11.,  8.,  0.],\n",
              "         ...,\n",
              "         [ 0.,  4., 11., ..., 12.,  7.,  0.],\n",
              "         [ 0.,  2., 14., ..., 12.,  0.,  0.],\n",
              "         [ 0.,  0.,  6., ...,  0.,  0.,  0.]],\n",
              " \n",
              "        [[ 0.,  0.,  0., ...,  5.,  0.,  0.],\n",
              "         [ 0.,  0.,  0., ...,  9.,  0.,  0.],\n",
              "         [ 0.,  0.,  3., ...,  6.,  0.,  0.],\n",
              "         ...,\n",
              "         [ 0.,  0.,  1., ...,  6.,  0.,  0.],\n",
              "         [ 0.,  0.,  1., ...,  6.,  0.,  0.],\n",
              "         [ 0.,  0.,  0., ..., 10.,  0.,  0.]],\n",
              " \n",
              "        [[ 0.,  0.,  0., ..., 12.,  0.,  0.],\n",
              "         [ 0.,  0.,  3., ..., 14.,  0.,  0.],\n",
              "         [ 0.,  0.,  8., ..., 16.,  0.,  0.],\n",
              "         ...,\n",
              "         [ 0.,  9., 16., ...,  0.,  0.,  0.],\n",
              "         [ 0.,  3., 13., ..., 11.,  5.,  0.],\n",
              "         [ 0.,  0.,  0., ..., 16.,  9.,  0.]],\n",
              " \n",
              "        ...,\n",
              " \n",
              "        [[ 0.,  0.,  1., ...,  1.,  0.,  0.],\n",
              "         [ 0.,  0., 13., ...,  2.,  1.,  0.],\n",
              "         [ 0.,  0., 16., ..., 16.,  5.,  0.],\n",
              "         ...,\n",
              "         [ 0.,  0., 16., ..., 15.,  0.,  0.],\n",
              "         [ 0.,  0., 15., ..., 16.,  0.,  0.],\n",
              "         [ 0.,  0.,  2., ...,  6.,  0.,  0.]],\n",
              " \n",
              "        [[ 0.,  0.,  2., ...,  0.,  0.,  0.],\n",
              "         [ 0.,  0., 14., ..., 15.,  1.,  0.],\n",
              "         [ 0.,  4., 16., ..., 16.,  7.,  0.],\n",
              "         ...,\n",
              "         [ 0.,  0.,  0., ..., 16.,  2.,  0.],\n",
              "         [ 0.,  0.,  4., ..., 16.,  2.,  0.],\n",
              "         [ 0.,  0.,  5., ..., 12.,  0.,  0.]],\n",
              " \n",
              "        [[ 0.,  0., 10., ...,  1.,  0.,  0.],\n",
              "         [ 0.,  2., 16., ...,  1.,  0.,  0.],\n",
              "         [ 0.,  0., 15., ..., 15.,  0.,  0.],\n",
              "         ...,\n",
              "         [ 0.,  4., 16., ..., 16.,  6.,  0.],\n",
              "         [ 0.,  8., 16., ..., 16.,  8.,  0.],\n",
              "         [ 0.,  1.,  8., ..., 12.,  1.,  0.]]]),\n",
              " 'target': array([0, 1, 2, ..., 8, 9, 8]),\n",
              " 'target_names': array([0, 1, 2, 3, 4, 5, 6, 7, 8, 9])}"
            ]
          },
          "metadata": {
            "tags": []
          },
          "execution_count": 54
        }
      ]
    },
    {
      "cell_type": "code",
      "metadata": {
        "ExecuteTime": {
          "end_time": "2019-07-25T05:57:02.084304Z",
          "start_time": "2019-07-25T05:57:02.072477Z"
        },
        "id": "4wi97jGDwofO",
        "colab_type": "code",
        "colab": {
          "base_uri": "https://localhost:8080/",
          "height": 148
        },
        "outputId": "166a5fb8-7ea4-4b30-8ce5-5689d2618fd1"
      },
      "source": [
        "data.data"
      ],
      "execution_count": 55,
      "outputs": [
        {
          "output_type": "execute_result",
          "data": {
            "text/plain": [
              "array([[ 0.,  0.,  5., ...,  0.,  0.,  0.],\n",
              "       [ 0.,  0.,  0., ..., 10.,  0.,  0.],\n",
              "       [ 0.,  0.,  0., ..., 16.,  9.,  0.],\n",
              "       ...,\n",
              "       [ 0.,  0.,  1., ...,  6.,  0.,  0.],\n",
              "       [ 0.,  0.,  2., ..., 12.,  0.,  0.],\n",
              "       [ 0.,  0., 10., ..., 12.,  1.,  0.]])"
            ]
          },
          "metadata": {
            "tags": []
          },
          "execution_count": 55
        }
      ]
    },
    {
      "cell_type": "code",
      "metadata": {
        "ExecuteTime": {
          "end_time": "2019-07-25T06:29:26.671316Z",
          "start_time": "2019-07-25T06:29:26.665216Z"
        },
        "id": "NcgDFrccwofW",
        "colab_type": "code",
        "colab": {
          "base_uri": "https://localhost:8080/",
          "height": 36
        },
        "outputId": "0c196691-ea5c-443a-9d04-974c00a5297f"
      },
      "source": [
        "data.data.shape  #single dimension"
      ],
      "execution_count": 56,
      "outputs": [
        {
          "output_type": "execute_result",
          "data": {
            "text/plain": [
              "(1797, 64)"
            ]
          },
          "metadata": {
            "tags": []
          },
          "execution_count": 56
        }
      ]
    },
    {
      "cell_type": "code",
      "metadata": {
        "ExecuteTime": {
          "end_time": "2019-07-25T06:24:36.190335Z",
          "start_time": "2019-07-25T06:24:36.175121Z"
        },
        "id": "rbdR3E16wofd",
        "colab_type": "code",
        "colab": {
          "base_uri": "https://localhost:8080/",
          "height": 110
        },
        "outputId": "0c3873df-19a1-45aa-a1fb-0c80f97fb1ea"
      },
      "source": [
        "data.data[0]"
      ],
      "execution_count": 57,
      "outputs": [
        {
          "output_type": "execute_result",
          "data": {
            "text/plain": [
              "array([ 0.,  0.,  5., 13.,  9.,  1.,  0.,  0.,  0.,  0., 13., 15., 10.,\n",
              "       15.,  5.,  0.,  0.,  3., 15.,  2.,  0., 11.,  8.,  0.,  0.,  4.,\n",
              "       12.,  0.,  0.,  8.,  8.,  0.,  0.,  5.,  8.,  0.,  0.,  9.,  8.,\n",
              "        0.,  0.,  4., 11.,  0.,  1., 12.,  7.,  0.,  0.,  2., 14.,  5.,\n",
              "       10., 12.,  0.,  0.,  0.,  0.,  6., 13., 10.,  0.,  0.,  0.])"
            ]
          },
          "metadata": {
            "tags": []
          },
          "execution_count": 57
        }
      ]
    },
    {
      "cell_type": "code",
      "metadata": {
        "ExecuteTime": {
          "end_time": "2019-07-25T06:20:42.225593Z",
          "start_time": "2019-07-25T06:20:42.212029Z"
        },
        "id": "lBbXNUJ9wofj",
        "colab_type": "code",
        "colab": {
          "base_uri": "https://localhost:8080/",
          "height": 932
        },
        "outputId": "b1b9ca58-cd04-4bd9-bc47-64d4c80f952b"
      },
      "source": [
        "data.images  #2d  , 1797 images"
      ],
      "execution_count": 58,
      "outputs": [
        {
          "output_type": "execute_result",
          "data": {
            "text/plain": [
              "array([[[ 0.,  0.,  5., ...,  1.,  0.,  0.],\n",
              "        [ 0.,  0., 13., ..., 15.,  5.,  0.],\n",
              "        [ 0.,  3., 15., ..., 11.,  8.,  0.],\n",
              "        ...,\n",
              "        [ 0.,  4., 11., ..., 12.,  7.,  0.],\n",
              "        [ 0.,  2., 14., ..., 12.,  0.,  0.],\n",
              "        [ 0.,  0.,  6., ...,  0.,  0.,  0.]],\n",
              "\n",
              "       [[ 0.,  0.,  0., ...,  5.,  0.,  0.],\n",
              "        [ 0.,  0.,  0., ...,  9.,  0.,  0.],\n",
              "        [ 0.,  0.,  3., ...,  6.,  0.,  0.],\n",
              "        ...,\n",
              "        [ 0.,  0.,  1., ...,  6.,  0.,  0.],\n",
              "        [ 0.,  0.,  1., ...,  6.,  0.,  0.],\n",
              "        [ 0.,  0.,  0., ..., 10.,  0.,  0.]],\n",
              "\n",
              "       [[ 0.,  0.,  0., ..., 12.,  0.,  0.],\n",
              "        [ 0.,  0.,  3., ..., 14.,  0.,  0.],\n",
              "        [ 0.,  0.,  8., ..., 16.,  0.,  0.],\n",
              "        ...,\n",
              "        [ 0.,  9., 16., ...,  0.,  0.,  0.],\n",
              "        [ 0.,  3., 13., ..., 11.,  5.,  0.],\n",
              "        [ 0.,  0.,  0., ..., 16.,  9.,  0.]],\n",
              "\n",
              "       ...,\n",
              "\n",
              "       [[ 0.,  0.,  1., ...,  1.,  0.,  0.],\n",
              "        [ 0.,  0., 13., ...,  2.,  1.,  0.],\n",
              "        [ 0.,  0., 16., ..., 16.,  5.,  0.],\n",
              "        ...,\n",
              "        [ 0.,  0., 16., ..., 15.,  0.,  0.],\n",
              "        [ 0.,  0., 15., ..., 16.,  0.,  0.],\n",
              "        [ 0.,  0.,  2., ...,  6.,  0.,  0.]],\n",
              "\n",
              "       [[ 0.,  0.,  2., ...,  0.,  0.,  0.],\n",
              "        [ 0.,  0., 14., ..., 15.,  1.,  0.],\n",
              "        [ 0.,  4., 16., ..., 16.,  7.,  0.],\n",
              "        ...,\n",
              "        [ 0.,  0.,  0., ..., 16.,  2.,  0.],\n",
              "        [ 0.,  0.,  4., ..., 16.,  2.,  0.],\n",
              "        [ 0.,  0.,  5., ..., 12.,  0.,  0.]],\n",
              "\n",
              "       [[ 0.,  0., 10., ...,  1.,  0.,  0.],\n",
              "        [ 0.,  2., 16., ...,  1.,  0.,  0.],\n",
              "        [ 0.,  0., 15., ..., 15.,  0.,  0.],\n",
              "        ...,\n",
              "        [ 0.,  4., 16., ..., 16.,  6.,  0.],\n",
              "        [ 0.,  8., 16., ..., 16.,  8.,  0.],\n",
              "        [ 0.,  1.,  8., ..., 12.,  1.,  0.]]])"
            ]
          },
          "metadata": {
            "tags": []
          },
          "execution_count": 58
        }
      ]
    },
    {
      "cell_type": "code",
      "metadata": {
        "ExecuteTime": {
          "end_time": "2019-07-25T06:53:58.351526Z",
          "start_time": "2019-07-25T06:53:58.339538Z"
        },
        "id": "BJ25_Zt5wofq",
        "colab_type": "code",
        "colab": {
          "base_uri": "https://localhost:8080/",
          "height": 36
        },
        "outputId": "81e1b891-0459-481d-bcf9-b6e1a94a42f1"
      },
      "source": [
        "data.images.shape  #2D"
      ],
      "execution_count": 59,
      "outputs": [
        {
          "output_type": "execute_result",
          "data": {
            "text/plain": [
              "(1797, 8, 8)"
            ]
          },
          "metadata": {
            "tags": []
          },
          "execution_count": 59
        }
      ]
    },
    {
      "cell_type": "code",
      "metadata": {
        "ExecuteTime": {
          "end_time": "2019-07-25T07:06:19.898175Z",
          "start_time": "2019-07-25T07:06:19.882366Z"
        },
        "id": "xFtWE8gBwofw",
        "colab_type": "code",
        "colab": {
          "base_uri": "https://localhost:8080/",
          "height": 166
        },
        "outputId": "20438f00-ae71-46f4-af69-f368eac5560c"
      },
      "source": [
        "data.images[1796]"
      ],
      "execution_count": 60,
      "outputs": [
        {
          "output_type": "execute_result",
          "data": {
            "text/plain": [
              "array([[ 0.,  0., 10., 14.,  8.,  1.,  0.,  0.],\n",
              "       [ 0.,  2., 16., 14.,  6.,  1.,  0.,  0.],\n",
              "       [ 0.,  0., 15., 15.,  8., 15.,  0.,  0.],\n",
              "       [ 0.,  0.,  5., 16., 16., 10.,  0.,  0.],\n",
              "       [ 0.,  0., 12., 15., 15., 12.,  0.,  0.],\n",
              "       [ 0.,  4., 16.,  6.,  4., 16.,  6.,  0.],\n",
              "       [ 0.,  8., 16., 10.,  8., 16.,  8.,  0.],\n",
              "       [ 0.,  1.,  8., 12., 14., 12.,  1.,  0.]])"
            ]
          },
          "metadata": {
            "tags": []
          },
          "execution_count": 60
        }
      ]
    },
    {
      "cell_type": "code",
      "metadata": {
        "ExecuteTime": {
          "end_time": "2019-07-25T06:53:59.318402Z",
          "start_time": "2019-07-25T06:53:59.079175Z"
        },
        "scrolled": true,
        "id": "eJMq--zVwof3",
        "colab_type": "code",
        "colab": {
          "base_uri": "https://localhost:8080/",
          "height": 284
        },
        "outputId": "db8e5f10-6541-4bd5-8570-adaab1574a19"
      },
      "source": [
        "plt.imshow(data.images[1796], cmap='gray')"
      ],
      "execution_count": 61,
      "outputs": [
        {
          "output_type": "execute_result",
          "data": {
            "text/plain": [
              "<matplotlib.image.AxesImage at 0x7f07b058feb8>"
            ]
          },
          "metadata": {
            "tags": []
          },
          "execution_count": 61
        },
        {
          "output_type": "display_data",
          "data": {
            "image/png": "[encoded data removed]",
            "text/plain": [
              "<Figure size 432x288 with 1 Axes>"
            ]
          },
          "metadata": {
            "tags": []
          }
        }
      ]
    },
    {
      "cell_type": "code",
      "metadata": {
        "ExecuteTime": {
          "end_time": "2019-07-25T06:53:59.402484Z",
          "start_time": "2019-07-25T06:53:59.395467Z"
        },
        "id": "ni873cHdwof_",
        "colab_type": "code",
        "colab": {
          "base_uri": "https://localhost:8080/",
          "height": 36
        },
        "outputId": "207ac120-6f07-4190-f9b9-ef989c63cb14"
      },
      "source": [
        "data.target[1796]"
      ],
      "execution_count": 62,
      "outputs": [
        {
          "output_type": "execute_result",
          "data": {
            "text/plain": [
              "8"
            ]
          },
          "metadata": {
            "tags": []
          },
          "execution_count": 62
        }
      ]
    },
    {
      "cell_type": "code",
      "metadata": {
        "ExecuteTime": {
          "end_time": "2019-07-25T06:53:59.967531Z",
          "start_time": "2019-07-25T06:53:59.962670Z"
        },
        "id": "9472zPv4wogF",
        "colab_type": "code",
        "colab": {}
      },
      "source": [
        "plt.imsave('num.png',data.images[1796])"
      ],
      "execution_count": 0,
      "outputs": []
    },
    {
      "cell_type": "code",
      "metadata": {
        "ExecuteTime": {
          "end_time": "2019-07-25T06:54:00.568361Z",
          "start_time": "2019-07-25T06:54:00.345592Z"
        },
        "id": "292XBqZZwogK",
        "colab_type": "code",
        "colab": {
          "base_uri": "https://localhost:8080/",
          "height": 284
        },
        "outputId": "1acf4b80-243b-4a8f-b5dd-48a41c2e156e"
      },
      "source": [
        "plt.imshow(data.images[1796], cmap='gray')"
      ],
      "execution_count": 64,
      "outputs": [
        {
          "output_type": "execute_result",
          "data": {
            "text/plain": [
              "<matplotlib.image.AxesImage at 0x7f07b05b8208>"
            ]
          },
          "metadata": {
            "tags": []
          },
          "execution_count": 64
        },
        {
          "output_type": "display_data",
          "data": {
            "image/png": "[encoded data removed]",
            "text/plain": [
              "<Figure size 432x288 with 1 Axes>"
            ]
          },
          "metadata": {
            "tags": []
          }
        }
      ]
    },
    {
      "cell_type": "code",
      "metadata": {
        "ExecuteTime": {
          "end_time": "2019-07-25T06:54:00.967676Z",
          "start_time": "2019-07-25T06:54:00.963681Z"
        },
        "id": "BLXhLyKTwogQ",
        "colab_type": "code",
        "colab": {}
      },
      "source": [
        "scaler = MinMaxScaler()"
      ],
      "execution_count": 0,
      "outputs": []
    },
    {
      "cell_type": "code",
      "metadata": {
        "ExecuteTime": {
          "end_time": "2019-07-25T06:54:01.417131Z",
          "start_time": "2019-07-25T06:54:01.399018Z"
        },
        "id": "G6th5L0UwogV",
        "colab_type": "code",
        "colab": {
          "base_uri": "https://localhost:8080/",
          "height": 36
        },
        "outputId": "8acba686-4fde-47dd-9f24-053664253365"
      },
      "source": [
        "scaler.fit(data.data)"
      ],
      "execution_count": 66,
      "outputs": [
        {
          "output_type": "execute_result",
          "data": {
            "text/plain": [
              "MinMaxScaler(copy=True, feature_range=(0, 1))"
            ]
          },
          "metadata": {
            "tags": []
          },
          "execution_count": 66
        }
      ]
    },
    {
      "cell_type": "code",
      "metadata": {
        "ExecuteTime": {
          "end_time": "2019-07-25T06:54:01.966231Z",
          "start_time": "2019-07-25T06:54:01.958542Z"
        },
        "id": "tyCsneJqwogZ",
        "colab_type": "code",
        "colab": {
          "base_uri": "https://localhost:8080/",
          "height": 110
        },
        "outputId": "4bf506a7-4e0d-4ef4-d57f-7e90fb9d9913"
      },
      "source": [
        "data.data[0]     #image "
      ],
      "execution_count": 67,
      "outputs": [
        {
          "output_type": "execute_result",
          "data": {
            "text/plain": [
              "array([ 0.,  0.,  5., 13.,  9.,  1.,  0.,  0.,  0.,  0., 13., 15., 10.,\n",
              "       15.,  5.,  0.,  0.,  3., 15.,  2.,  0., 11.,  8.,  0.,  0.,  4.,\n",
              "       12.,  0.,  0.,  8.,  8.,  0.,  0.,  5.,  8.,  0.,  0.,  9.,  8.,\n",
              "        0.,  0.,  4., 11.,  0.,  1., 12.,  7.,  0.,  0.,  2., 14.,  5.,\n",
              "       10., 12.,  0.,  0.,  0.,  0.,  6., 13., 10.,  0.,  0.,  0.])"
            ]
          },
          "metadata": {
            "tags": []
          },
          "execution_count": 67
        }
      ]
    },
    {
      "cell_type": "code",
      "metadata": {
        "ExecuteTime": {
          "end_time": "2019-07-25T06:54:02.834577Z",
          "start_time": "2019-07-25T06:54:02.827019Z"
        },
        "id": "roDHv44Kwogf",
        "colab_type": "code",
        "colab": {}
      },
      "source": [
        "scaled_training_data = scaler.transform(data.data)"
      ],
      "execution_count": 0,
      "outputs": []
    },
    {
      "cell_type": "code",
      "metadata": {
        "ExecuteTime": {
          "end_time": "2019-07-25T06:54:03.860462Z",
          "start_time": "2019-07-25T06:54:03.846939Z"
        },
        "scrolled": true,
        "id": "mVbQMYM1wogk",
        "colab_type": "code",
        "colab": {
          "base_uri": "https://localhost:8080/",
          "height": 260
        },
        "outputId": "7f4ceb68-58e8-47c2-d230-18772d74887f"
      },
      "source": [
        "scaled_training_data[0]  #scaling doesn't change Value"
      ],
      "execution_count": 69,
      "outputs": [
        {
          "output_type": "execute_result",
          "data": {
            "text/plain": [
              "array([0.        , 0.        , 0.3125    , 0.8125    , 0.5625    ,\n",
              "       0.0625    , 0.        , 0.        , 0.        , 0.        ,\n",
              "       0.8125    , 0.9375    , 0.625     , 0.9375    , 0.3125    ,\n",
              "       0.        , 0.        , 0.1875    , 0.9375    , 0.125     ,\n",
              "       0.        , 0.6875    , 0.5       , 0.        , 0.        ,\n",
              "       0.26666667, 0.75      , 0.        , 0.        , 0.5       ,\n",
              "       0.53333333, 0.        , 0.        , 0.35714286, 0.5       ,\n",
              "       0.        , 0.        , 0.5625    , 0.57142857, 0.        ,\n",
              "       0.        , 0.25      , 0.6875    , 0.        , 0.0625    ,\n",
              "       0.75      , 0.4375    , 0.        , 0.        , 0.125     ,\n",
              "       0.875     , 0.3125    , 0.625     , 0.75      , 0.        ,\n",
              "       0.        , 0.        , 0.        , 0.375     , 0.8125    ,\n",
              "       0.625     , 0.        , 0.        , 0.        ])"
            ]
          },
          "metadata": {
            "tags": []
          },
          "execution_count": 69
        }
      ]
    },
    {
      "cell_type": "code",
      "metadata": {
        "ExecuteTime": {
          "end_time": "2019-07-25T06:54:05.208354Z",
          "start_time": "2019-07-25T06:54:05.195799Z"
        },
        "id": "qo_Wc-DQwogn",
        "colab_type": "code",
        "colab": {
          "base_uri": "https://localhost:8080/",
          "height": 316
        },
        "outputId": "06a312b8-f097-4463-e420-2d9be58b4ee4"
      },
      "source": [
        "scaled_training_data[0].reshape(8,8)"
      ],
      "execution_count": 70,
      "outputs": [
        {
          "output_type": "execute_result",
          "data": {
            "text/plain": [
              "array([[0.        , 0.        , 0.3125    , 0.8125    , 0.5625    ,\n",
              "        0.0625    , 0.        , 0.        ],\n",
              "       [0.        , 0.        , 0.8125    , 0.9375    , 0.625     ,\n",
              "        0.9375    , 0.3125    , 0.        ],\n",
              "       [0.        , 0.1875    , 0.9375    , 0.125     , 0.        ,\n",
              "        0.6875    , 0.5       , 0.        ],\n",
              "       [0.        , 0.26666667, 0.75      , 0.        , 0.        ,\n",
              "        0.5       , 0.53333333, 0.        ],\n",
              "       [0.        , 0.35714286, 0.5       , 0.        , 0.        ,\n",
              "        0.5625    , 0.57142857, 0.        ],\n",
              "       [0.        , 0.25      , 0.6875    , 0.        , 0.0625    ,\n",
              "        0.75      , 0.4375    , 0.        ],\n",
              "       [0.        , 0.125     , 0.875     , 0.3125    , 0.625     ,\n",
              "        0.75      , 0.        , 0.        ],\n",
              "       [0.        , 0.        , 0.375     , 0.8125    , 0.625     ,\n",
              "        0.        , 0.        , 0.        ]])"
            ]
          },
          "metadata": {
            "tags": []
          },
          "execution_count": 70
        }
      ]
    },
    {
      "cell_type": "code",
      "metadata": {
        "ExecuteTime": {
          "end_time": "2019-07-25T07:11:19.010031Z",
          "start_time": "2019-07-25T07:11:18.803479Z"
        },
        "id": "G_-Vs0-Nwogu",
        "colab_type": "code",
        "colab": {
          "base_uri": "https://localhost:8080/",
          "height": 284
        },
        "outputId": "8fff73b7-b7f8-4bad-ce5e-2c39508d2557"
      },
      "source": [
        "plt.imshow(scaled_training_data[0].reshape(8,8),cmap='gray')"
      ],
      "execution_count": 71,
      "outputs": [
        {
          "output_type": "execute_result",
          "data": {
            "text/plain": [
              "<matplotlib.image.AxesImage at 0x7f07b05596d8>"
            ]
          },
          "metadata": {
            "tags": []
          },
          "execution_count": 71
        },
        {
          "output_type": "display_data",
          "data": {
            "image/png": "[encoded data removed]",
            "text/plain": [
              "<Figure size 432x288 with 1 Axes>"
            ]
          },
          "metadata": {
            "tags": []
          }
        }
      ]
    },
    {
      "cell_type": "code",
      "metadata": {
        "ExecuteTime": {
          "end_time": "2019-07-25T07:11:19.927084Z",
          "start_time": "2019-07-25T07:11:19.915218Z"
        },
        "id": "4TCr2aHVwogy",
        "colab_type": "code",
        "colab": {}
      },
      "source": [
        "clf = svm.SVC(gamma = .25, C = 10000)"
      ],
      "execution_count": 0,
      "outputs": []
    },
    {
      "cell_type": "code",
      "metadata": {
        "ExecuteTime": {
          "end_time": "2019-07-25T07:11:21.795067Z",
          "start_time": "2019-07-25T07:11:21.521982Z"
        },
        "id": "cRlQrxbxwog4",
        "colab_type": "code",
        "colab": {
          "base_uri": "https://localhost:8080/",
          "height": 92
        },
        "outputId": "8eafaa94-d3c0-4fa5-b49f-6260bd0f1e5e"
      },
      "source": [
        "clf.fit(scaled_training_data, data.target)"
      ],
      "execution_count": 73,
      "outputs": [
        {
          "output_type": "execute_result",
          "data": {
            "text/plain": [
              "SVC(C=10000, break_ties=False, cache_size=200, class_weight=None, coef0=0.0,\n",
              "    decision_function_shape='ovr', degree=3, gamma=0.25, kernel='rbf',\n",
              "    max_iter=-1, probability=False, random_state=None, shrinking=True,\n",
              "    tol=0.001, verbose=False)"
            ]
          },
          "metadata": {
            "tags": []
          },
          "execution_count": 73
        }
      ]
    },
    {
      "cell_type": "code",
      "metadata": {
        "ExecuteTime": {
          "end_time": "2019-07-25T07:11:23.045624Z",
          "start_time": "2019-07-25T07:11:22.412696Z"
        },
        "id": "RJPVe-TTwog7",
        "colab_type": "code",
        "colab": {}
      },
      "source": [
        "img = Image.open(\"index.png\").convert('L')"
      ],
      "execution_count": 0,
      "outputs": []
    },
    {
      "cell_type": "code",
      "metadata": {
        "ExecuteTime": {
          "end_time": "2019-07-25T07:11:24.182579Z",
          "start_time": "2019-07-25T07:11:24.177244Z"
        },
        "scrolled": true,
        "id": "3VAtSoGAwohA",
        "colab_type": "code",
        "colab": {
          "base_uri": "https://localhost:8080/",
          "height": 34
        },
        "outputId": "e8470a1e-48fa-4ae6-eab9-894c0c059547"
      },
      "source": [
        "img"
      ],
      "execution_count": 102,
      "outputs": [
        {
          "output_type": "execute_result",
          "data": {
            "image/png": "[encoded data removed]",
            "text/plain": [
              "<PIL.Image.Image image mode=L size=8x8 at 0x7F07B0559BA8>"
            ]
          },
          "metadata": {
            "tags": []
          },
          "execution_count": 102
        }
      ]
    },
    {
      "cell_type": "code",
      "metadata": {
        "ExecuteTime": {
          "end_time": "2019-07-25T07:11:25.220437Z",
          "start_time": "2019-07-25T07:11:25.210959Z"
        },
        "id": "cg3RPPymwohD",
        "colab_type": "code",
        "colab": {}
      },
      "source": [
        "img = img.resize((8,8),Image.ANTIALIAS)"
      ],
      "execution_count": 0,
      "outputs": []
    },
    {
      "cell_type": "code",
      "metadata": {
        "ExecuteTime": {
          "end_time": "2019-07-25T07:11:27.702028Z",
          "start_time": "2019-07-25T07:11:27.682742Z"
        },
        "id": "qmGCrjkjwohH",
        "colab_type": "code",
        "colab": {
          "base_uri": "https://localhost:8080/",
          "height": 34
        },
        "outputId": "86e2638b-c9d0-4e0c-ff72-c4c1b91e94c1"
      },
      "source": [
        "img"
      ],
      "execution_count": 77,
      "outputs": [
        {
          "output_type": "execute_result",
          "data": {
            "image/png": "[encoded data removed]",
            "text/plain": [
              "<PIL.Image.Image image mode=L size=8x8 at 0x7F07B0559BA8>"
            ]
          },
          "metadata": {
            "tags": []
          },
          "execution_count": 77
        }
      ]
    },
    {
      "cell_type": "code",
      "metadata": {
        "ExecuteTime": {
          "end_time": "2019-07-25T07:11:28.380883Z",
          "start_time": "2019-07-25T07:11:28.377563Z"
        },
        "id": "3I4gCCGKwohL",
        "colab_type": "code",
        "colab": {}
      },
      "source": [
        "px = img.load()"
      ],
      "execution_count": 0,
      "outputs": []
    },
    {
      "cell_type": "code",
      "metadata": {
        "ExecuteTime": {
          "end_time": "2019-07-25T07:11:29.823154Z",
          "start_time": "2019-07-25T07:11:29.804822Z"
        },
        "id": "Xf6_NomEwohN",
        "colab_type": "code",
        "colab": {
          "base_uri": "https://localhost:8080/",
          "height": 36
        },
        "outputId": "b0f73ba0-c432-40de-8672-e539b46317b3"
      },
      "source": [
        "px[0,0]"
      ],
      "execution_count": 79,
      "outputs": [
        {
          "output_type": "execute_result",
          "data": {
            "text/plain": [
              "255"
            ]
          },
          "metadata": {
            "tags": []
          },
          "execution_count": 79
        }
      ]
    },
    {
      "cell_type": "code",
      "metadata": {
        "ExecuteTime": {
          "end_time": "2019-07-25T07:11:30.577349Z",
          "start_time": "2019-07-25T07:11:30.574419Z"
        },
        "code_folding": [],
        "id": "i9MXOnRCwohU",
        "colab_type": "code",
        "colab": {}
      },
      "source": [
        "myLi = []\n",
        "for i in range(0,8):\n",
        "    for j in range(0,8):\n",
        "        myLi.append(px[j,i])"
      ],
      "execution_count": 0,
      "outputs": []
    },
    {
      "cell_type": "code",
      "metadata": {
        "ExecuteTime": {
          "end_time": "2019-07-25T07:11:30.623974Z",
          "start_time": "2019-07-25T07:11:30.612523Z"
        },
        "id": "IY7cc0i2wohX",
        "colab_type": "code",
        "colab": {
          "base_uri": "https://localhost:8080/",
          "height": 36
        },
        "outputId": "8a4281b1-0547-4fc3-eb53-351b0973c074"
      },
      "source": [
        "len(myLi)"
      ],
      "execution_count": 81,
      "outputs": [
        {
          "output_type": "execute_result",
          "data": {
            "text/plain": [
              "64"
            ]
          },
          "metadata": {
            "tags": []
          },
          "execution_count": 81
        }
      ]
    },
    {
      "cell_type": "code",
      "metadata": {
        "ExecuteTime": {
          "end_time": "2019-07-25T07:11:33.762402Z",
          "start_time": "2019-07-25T07:11:33.746667Z"
        },
        "id": "aEh5HJ5Iwohb",
        "colab_type": "code",
        "colab": {
          "base_uri": "https://localhost:8080/",
          "height": 1000
        },
        "outputId": "a88d2c95-8158-4891-bbef-712904f69673"
      },
      "source": [
        "myLi"
      ],
      "execution_count": 82,
      "outputs": [
        {
          "output_type": "execute_result",
          "data": {
            "text/plain": [
              "[255,\n",
              " 255,\n",
              " 254,\n",
              " 255,\n",
              " 249,\n",
              " 255,\n",
              " 255,\n",
              " 255,\n",
              " 255,\n",
              " 253,\n",
              " 255,\n",
              " 184,\n",
              " 117,\n",
              " 255,\n",
              " 253,\n",
              " 255,\n",
              " 254,\n",
              " 254,\n",
              " 231,\n",
              " 95,\n",
              " 242,\n",
              " 254,\n",
              " 254,\n",
              " 255,\n",
              " 251,\n",
              " 255,\n",
              " 126,\n",
              " 79,\n",
              " 183,\n",
              " 249,\n",
              " 254,\n",
              " 255,\n",
              " 253,\n",
              " 255,\n",
              " 108,\n",
              " 175,\n",
              " 75,\n",
              " 230,\n",
              " 255,\n",
              " 254,\n",
              " 253,\n",
              " 255,\n",
              " 172,\n",
              " 92,\n",
              " 166,\n",
              " 255,\n",
              " 253,\n",
              " 255,\n",
              " 255,\n",
              " 255,\n",
              " 255,\n",
              " 246,\n",
              " 255,\n",
              " 255,\n",
              " 255,\n",
              " 255,\n",
              " 255,\n",
              " 255,\n",
              " 255,\n",
              " 255,\n",
              " 252,\n",
              " 255,\n",
              " 255,\n",
              " 255]"
            ]
          },
          "metadata": {
            "tags": []
          },
          "execution_count": 82
        }
      ]
    },
    {
      "cell_type": "code",
      "metadata": {
        "ExecuteTime": {
          "end_time": "2019-07-25T07:24:13.524538Z",
          "start_time": "2019-07-25T07:24:13.516686Z"
        },
        "id": "0eN41LJrwohf",
        "colab_type": "code",
        "colab": {}
      },
      "source": [
        "arr = np.array(myLi)"
      ],
      "execution_count": 0,
      "outputs": []
    },
    {
      "cell_type": "code",
      "metadata": {
        "ExecuteTime": {
          "end_time": "2019-07-25T07:24:14.172189Z",
          "start_time": "2019-07-25T07:24:14.161063Z"
        },
        "id": "PJBKRR1Swohi",
        "colab_type": "code",
        "colab": {
          "base_uri": "https://localhost:8080/",
          "height": 110
        },
        "outputId": "33830450-c20c-4105-aa03-d344bf3bf431"
      },
      "source": [
        "arr"
      ],
      "execution_count": 84,
      "outputs": [
        {
          "output_type": "execute_result",
          "data": {
            "text/plain": [
              "array([255, 255, 254, 255, 249, 255, 255, 255, 255, 253, 255, 184, 117,\n",
              "       255, 253, 255, 254, 254, 231,  95, 242, 254, 254, 255, 251, 255,\n",
              "       126,  79, 183, 249, 254, 255, 253, 255, 108, 175,  75, 230, 255,\n",
              "       254, 253, 255, 172,  92, 166, 255, 253, 255, 255, 255, 255, 246,\n",
              "       255, 255, 255, 255, 255, 255, 255, 255, 252, 255, 255, 255])"
            ]
          },
          "metadata": {
            "tags": []
          },
          "execution_count": 84
        }
      ]
    },
    {
      "cell_type": "code",
      "metadata": {
        "ExecuteTime": {
          "end_time": "2019-07-25T07:24:14.406760Z",
          "start_time": "2019-07-25T07:24:14.387847Z"
        },
        "id": "qFjyVRl1wohm",
        "colab_type": "code",
        "colab": {
          "base_uri": "https://localhost:8080/",
          "height": 166
        },
        "outputId": "5da45363-337f-4565-c478-da38e939afca"
      },
      "source": [
        "arr.reshape(8,8)"
      ],
      "execution_count": 85,
      "outputs": [
        {
          "output_type": "execute_result",
          "data": {
            "text/plain": [
              "array([[255, 255, 254, 255, 249, 255, 255, 255],\n",
              "       [255, 253, 255, 184, 117, 255, 253, 255],\n",
              "       [254, 254, 231,  95, 242, 254, 254, 255],\n",
              "       [251, 255, 126,  79, 183, 249, 254, 255],\n",
              "       [253, 255, 108, 175,  75, 230, 255, 254],\n",
              "       [253, 255, 172,  92, 166, 255, 253, 255],\n",
              "       [255, 255, 255, 246, 255, 255, 255, 255],\n",
              "       [255, 255, 255, 255, 252, 255, 255, 255]])"
            ]
          },
          "metadata": {
            "tags": []
          },
          "execution_count": 85
        }
      ]
    },
    {
      "cell_type": "code",
      "metadata": {
        "ExecuteTime": {
          "end_time": "2019-07-25T07:24:15.457013Z",
          "start_time": "2019-07-25T07:24:15.238382Z"
        },
        "id": "KDYz933Zwohp",
        "colab_type": "code",
        "colab": {
          "base_uri": "https://localhost:8080/",
          "height": 284
        },
        "outputId": "a40584b1-9892-422b-eea8-35fa3c003af9"
      },
      "source": [
        "plt.imshow(arr.reshape(8,8),cmap='gray')"
      ],
      "execution_count": 86,
      "outputs": [
        {
          "output_type": "execute_result",
          "data": {
            "text/plain": [
              "<matplotlib.image.AxesImage at 0x7f07b04cb128>"
            ]
          },
          "metadata": {
            "tags": []
          },
          "execution_count": 86
        },
        {
          "output_type": "display_data",
          "data": {
            "image/png": "[encoded data removed]",
            "text/plain": [
              "<Figure size 432x288 with 1 Axes>"
            ]
          },
          "metadata": {
            "tags": []
          }
        }
      ]
    },
    {
      "cell_type": "code",
      "metadata": {
        "ExecuteTime": {
          "end_time": "2019-07-25T07:24:16.005194Z",
          "start_time": "2019-07-25T07:24:15.991620Z"
        },
        "id": "sjqEJ6gIwohs",
        "colab_type": "code",
        "colab": {}
      },
      "source": [
        "sc = MinMaxScaler()"
      ],
      "execution_count": 0,
      "outputs": []
    },
    {
      "cell_type": "code",
      "metadata": {
        "ExecuteTime": {
          "end_time": "2019-07-25T07:24:16.739086Z",
          "start_time": "2019-07-25T07:24:16.720047Z"
        },
        "id": "Y7RknGcZwohx",
        "colab_type": "code",
        "colab": {
          "base_uri": "https://localhost:8080/",
          "height": 1000
        },
        "outputId": "2d9cbfec-d231-431d-fece-df26792da0a0"
      },
      "source": [
        "arr.reshape(-1, 1)"
      ],
      "execution_count": 88,
      "outputs": [
        {
          "output_type": "execute_result",
          "data": {
            "text/plain": [
              "array([[255],\n",
              "       [255],\n",
              "       [254],\n",
              "       [255],\n",
              "       [249],\n",
              "       [255],\n",
              "       [255],\n",
              "       [255],\n",
              "       [255],\n",
              "       [253],\n",
              "       [255],\n",
              "       [184],\n",
              "       [117],\n",
              "       [255],\n",
              "       [253],\n",
              "       [255],\n",
              "       [254],\n",
              "       [254],\n",
              "       [231],\n",
              "       [ 95],\n",
              "       [242],\n",
              "       [254],\n",
              "       [254],\n",
              "       [255],\n",
              "       [251],\n",
              "       [255],\n",
              "       [126],\n",
              "       [ 79],\n",
              "       [183],\n",
              "       [249],\n",
              "       [254],\n",
              "       [255],\n",
              "       [253],\n",
              "       [255],\n",
              "       [108],\n",
              "       [175],\n",
              "       [ 75],\n",
              "       [230],\n",
              "       [255],\n",
              "       [254],\n",
              "       [253],\n",
              "       [255],\n",
              "       [172],\n",
              "       [ 92],\n",
              "       [166],\n",
              "       [255],\n",
              "       [253],\n",
              "       [255],\n",
              "       [255],\n",
              "       [255],\n",
              "       [255],\n",
              "       [246],\n",
              "       [255],\n",
              "       [255],\n",
              "       [255],\n",
              "       [255],\n",
              "       [255],\n",
              "       [255],\n",
              "       [255],\n",
              "       [255],\n",
              "       [252],\n",
              "       [255],\n",
              "       [255],\n",
              "       [255]])"
            ]
          },
          "metadata": {
            "tags": []
          },
          "execution_count": 88
        }
      ]
    },
    {
      "cell_type": "code",
      "metadata": {
        "ExecuteTime": {
          "end_time": "2019-07-25T07:24:17.223258Z",
          "start_time": "2019-07-25T07:24:17.202504Z"
        },
        "id": "KAcRAC6uwohz",
        "colab_type": "code",
        "colab": {
          "base_uri": "https://localhost:8080/",
          "height": 36
        },
        "outputId": "539d76a6-528c-4cc0-f072-17f06183b800"
      },
      "source": [
        "arr = arr.reshape(-1, 1)\n",
        "sc.fit(arr)"
      ],
      "execution_count": 89,
      "outputs": [
        {
          "output_type": "execute_result",
          "data": {
            "text/plain": [
              "MinMaxScaler(copy=True, feature_range=(0, 1))"
            ]
          },
          "metadata": {
            "tags": []
          },
          "execution_count": 89
        }
      ]
    },
    {
      "cell_type": "code",
      "metadata": {
        "ExecuteTime": {
          "end_time": "2019-07-25T07:24:18.027276Z",
          "start_time": "2019-07-25T07:24:18.012449Z"
        },
        "id": "nGC3HbbHwoh3",
        "colab_type": "code",
        "colab": {}
      },
      "source": [
        "arr2 = sc.transform(arr)"
      ],
      "execution_count": 0,
      "outputs": []
    },
    {
      "cell_type": "code",
      "metadata": {
        "ExecuteTime": {
          "end_time": "2019-07-25T07:24:19.609783Z",
          "start_time": "2019-07-25T07:24:19.596060Z"
        },
        "id": "2vO5Ketxwoh6",
        "colab_type": "code",
        "colab": {}
      },
      "source": [
        "arr2 = arr2.ravel() #1d"
      ],
      "execution_count": 0,
      "outputs": []
    },
    {
      "cell_type": "code",
      "metadata": {
        "ExecuteTime": {
          "end_time": "2019-07-25T07:24:20.913740Z",
          "start_time": "2019-07-25T07:24:20.901951Z"
        },
        "id": "amyGgUikwoiA",
        "colab_type": "code",
        "colab": {
          "base_uri": "https://localhost:8080/",
          "height": 260
        },
        "outputId": "4384b533-5228-4d89-d48c-cd2239940a15"
      },
      "source": [
        "arr2"
      ],
      "execution_count": 92,
      "outputs": [
        {
          "output_type": "execute_result",
          "data": {
            "text/plain": [
              "array([1.        , 1.        , 0.99444444, 1.        , 0.96666667,\n",
              "       1.        , 1.        , 1.        , 1.        , 0.98888889,\n",
              "       1.        , 0.60555556, 0.23333333, 1.        , 0.98888889,\n",
              "       1.        , 0.99444444, 0.99444444, 0.86666667, 0.11111111,\n",
              "       0.92777778, 0.99444444, 0.99444444, 1.        , 0.97777778,\n",
              "       1.        , 0.28333333, 0.02222222, 0.6       , 0.96666667,\n",
              "       0.99444444, 1.        , 0.98888889, 1.        , 0.18333333,\n",
              "       0.55555556, 0.        , 0.86111111, 1.        , 0.99444444,\n",
              "       0.98888889, 1.        , 0.53888889, 0.09444444, 0.50555556,\n",
              "       1.        , 0.98888889, 1.        , 1.        , 1.        ,\n",
              "       1.        , 0.95      , 1.        , 1.        , 1.        ,\n",
              "       1.        , 1.        , 1.        , 1.        , 1.        ,\n",
              "       0.98333333, 1.        , 1.        , 1.        ])"
            ]
          },
          "metadata": {
            "tags": []
          },
          "execution_count": 92
        }
      ]
    },
    {
      "cell_type": "code",
      "metadata": {
        "ExecuteTime": {
          "end_time": "2019-07-25T07:24:21.723223Z",
          "start_time": "2019-07-25T07:24:21.487414Z"
        },
        "id": "AoRionciwoiD",
        "colab_type": "code",
        "colab": {
          "base_uri": "https://localhost:8080/",
          "height": 284
        },
        "outputId": "5bed3609-8e6d-4ae5-ad7e-6aacfa769893"
      },
      "source": [
        "plt.imshow(arr2.reshape(8,8), cmap='gray')"
      ],
      "execution_count": 93,
      "outputs": [
        {
          "output_type": "execute_result",
          "data": {
            "text/plain": [
              "<matplotlib.image.AxesImage at 0x7f07b04a95c0>"
            ]
          },
          "metadata": {
            "tags": []
          },
          "execution_count": 93
        },
        {
          "output_type": "display_data",
          "data": {
            "image/png": "[encoded data removed]",
            "text/plain": [
              "<Figure size 432x288 with 1 Axes>"
            ]
          },
          "metadata": {
            "tags": []
          }
        }
      ]
    },
    {
      "cell_type": "code",
      "metadata": {
        "ExecuteTime": {
          "end_time": "2019-07-25T07:24:23.032230Z",
          "start_time": "2019-07-25T07:24:23.025984Z"
        },
        "id": "_6ONVDwHwoiI",
        "colab_type": "code",
        "colab": {}
      },
      "source": [
        "arr2 = 1 - arr2"
      ],
      "execution_count": 0,
      "outputs": []
    },
    {
      "cell_type": "code",
      "metadata": {
        "ExecuteTime": {
          "end_time": "2019-07-25T07:24:24.240161Z",
          "start_time": "2019-07-25T07:24:23.963422Z"
        },
        "id": "NxQ1XbVOwoiK",
        "colab_type": "code",
        "colab": {
          "base_uri": "https://localhost:8080/",
          "height": 284
        },
        "outputId": "180306d8-a78d-495f-c7eb-32d18b8a2003"
      },
      "source": [
        "plt.imshow(arr2.reshape(8,8),cmap='gray')"
      ],
      "execution_count": 95,
      "outputs": [
        {
          "output_type": "execute_result",
          "data": {
            "text/plain": [
              "<matplotlib.image.AxesImage at 0x7f07b07047b8>"
            ]
          },
          "metadata": {
            "tags": []
          },
          "execution_count": 95
        },
        {
          "output_type": "display_data",
          "data": {
            "image/png": "[encoded data removed]",
            "text/plain": [
              "<Figure size 432x288 with 1 Axes>"
            ]
          },
          "metadata": {
            "tags": []
          }
        }
      ]
    },
    {
      "cell_type": "code",
      "metadata": {
        "ExecuteTime": {
          "end_time": "2019-07-25T07:25:03.199438Z",
          "start_time": "2019-07-25T07:25:03.186362Z"
        },
        "id": "nAtw-FF0woiO",
        "colab_type": "code",
        "colab": {
          "base_uri": "https://localhost:8080/",
          "height": 36
        },
        "outputId": "b4df9653-417d-4198-bd81-7d4e56fb5e3a"
      },
      "source": [
        "clf.predict([arr2])[0]"
      ],
      "execution_count": 101,
      "outputs": [
        {
          "output_type": "execute_result",
          "data": {
            "text/plain": [
              "4"
            ]
          },
          "metadata": {
            "tags": []
          },
          "execution_count": 101
        }
      ]
    }
  ]
}